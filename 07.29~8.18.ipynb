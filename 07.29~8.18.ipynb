{
 "cells": [
  {
   "cell_type": "code",
   "execution_count": 29,
   "metadata": {},
   "outputs": [
    {
     "name": "stdout",
     "output_type": "stream",
     "text": [
      "23 89 114\n",
      "23 90 54\n",
      "24 30 54\n",
      "0 30 54\n"
     ]
    }
   ],
   "source": [
    "a, b, s = map(int,input().split(\" \")) \n",
    "c = int(input())\n",
    "minute = c//60\n",
    "second = c%60\n",
    "b = b+minute\n",
    "s = s+second\n",
    "if s >=60:\n",
    "    b = b+(s//60)\n",
    "    s = s%60\n",
    "if b >= 60:\n",
    "    a = a+(b//60)\n",
    "    b = b%60\n",
    "if a>=24:\n",
    "    a = a%24\n",
    "print(a, b, s)"
   ]
  },
  {
   "cell_type": "code",
   "execution_count": 11,
   "metadata": {},
   "outputs": [
    {
     "name": "stdout",
     "output_type": "stream",
     "text": [
      "AE\n",
      "OO\n",
      "AB\n"
     ]
    }
   ],
   "source": [
    "time = int(input())\n",
    "for _ in range(time):\n",
    "    st = input()\n",
    "    print(st[0]+st[-1])"
   ]
  },
  {
   "cell_type": "code",
   "execution_count": 30,
   "metadata": {},
   "outputs": [
    {
     "name": "stdout",
     "output_type": "stream",
     "text": [
      "0\n"
     ]
    }
   ],
   "source": [
    "K = int(input())\n",
    "ls = []\n",
    "for _ in range(K):\n",
    "    N = int(input())\n",
    "    if N==0:\n",
    "        ls.pop()\n",
    "    else:\n",
    "        ls.append(N)\n",
    "print(sum(ls))"
   ]
  },
  {
   "cell_type": "code",
   "execution_count": 31,
   "metadata": {},
   "outputs": [
    {
     "name": "stdout",
     "output_type": "stream",
     "text": [
      "['A', 'B']\n",
      "[3, 1, 0]\n",
      "A\n"
     ]
    }
   ],
   "source": [
    "word = input().upper() # [0]으로 되어있는 리스트를 만들고 그걸 활용해서 문제푸는 방법 익히기\n",
    "word = list(word)\n",
    "wl = set(word)\n",
    "wl = list(wl)\n",
    "m = 0\n",
    "ans = []\n",
    "count = [0] * (len(wl)+1)\n",
    "for _ in word:\n",
    "    for i in range (len(wl)):\n",
    "        if _ == wl[i]:\n",
    "            count[i] += 1\n",
    "\n",
    "for c in count:\n",
    "    if c == max(count):\n",
    "        m +=1\n",
    "\n",
    "if m>1:\n",
    "    print(\"?\")\n",
    "else:\n",
    "    print(wl[count.index(max(count))])"
   ]
  },
  {
   "cell_type": "code",
   "execution_count": 33,
   "metadata": {},
   "outputs": [
    {
     "name": "stdout",
     "output_type": "stream",
     "text": [
      "37.0\n",
      "30\n"
     ]
    }
   ],
   "source": [
    "import statistics as st\n",
    "N = []\n",
    "for i in range(10):\n",
    "    k = int(input())\n",
    "    N.append(k)\n",
    "avg = sum(N)/len(N)\n",
    "bins = st.mode(N)\n",
    "print(int(avg))\n",
    "print(bins)"
   ]
  },
  {
   "cell_type": "code",
   "execution_count": 5,
   "metadata": {},
   "outputs": [
    {
     "name": "stdout",
     "output_type": "stream",
     "text": [
      "AAABBBCCC\n",
      "/////HHHHHTTTTTPPPPP\n"
     ]
    }
   ],
   "source": [
    "T = int(input())\n",
    "for _ in range(T):\n",
    "    num, str = input().split(\" \")\n",
    "    num = int(num)\n",
    "    for i in range(len(str)):\n",
    "        print(str[i]*num, end=\"\")\n",
    "    print()        "
   ]
  },
  {
   "cell_type": "code",
   "execution_count": 7,
   "metadata": {},
   "outputs": [
    {
     "name": "stdout",
     "output_type": "stream",
     "text": [
      "10010\n"
     ]
    }
   ],
   "source": [
    "A = int(input())\n",
    "yun = input()\n",
    "B = int(input())\n",
    "print(A*B if yun==\"*\" else A+B)"
   ]
  },
  {
   "cell_type": "code",
   "execution_count": null,
   "metadata": {},
   "outputs": [],
   "source": [
    "score = int(input())\n",
    "if score>=90:\n",
    "    print(\"A\")\n",
    "elif score>=80:\n",
    "    print(\"B\")\n",
    "elif score>=70:\n",
    "    print(\"C\")\n",
    "elif score>=60:\n",
    "    print(\"D\")\n",
    "else:\n",
    "    print(\"F\")"
   ]
  },
  {
   "cell_type": "code",
   "execution_count": 12,
   "metadata": {},
   "outputs": [
    {
     "name": "stdout",
     "output_type": "stream",
     "text": [
      "[30, 20, 10]\n"
     ]
    }
   ],
   "source": [
    "A, B, C = map(int,(input().split(\" \")))\n",
    "elist = []\n",
    "elist.append(A)\n",
    "elist.append(B)\n",
    "elist.append(C)\n",
    "elist.sort(reverse=True)\n",
    "print(elist[1])\n"
   ]
  },
  {
   "cell_type": "code",
   "execution_count": 40,
   "metadata": {},
   "outputs": [
    {
     "name": "stdout",
     "output_type": "stream",
     "text": [
      "2\n",
      "2\n",
      "2\n",
      "3\n",
      "3\n"
     ]
    }
   ],
   "source": [
    "N = int(input())\n",
    "so = []\n",
    "# 자기자신을 제외한 수로 나눠지지않는수 : 소수, k 자기자신빼고 모든수\n",
    "\n",
    "for n in range(2,N+1):\n",
    "    st = True\n",
    "    for k in range(2,int(n**0.5)+1):\n",
    "        if n%k==0:\n",
    "            st = False\n",
    "            break;\n",
    "    if st == True:\n",
    "        so.append(n)\n",
    "\n",
    "for ss in range(len(so)):\n",
    "    while N%so[ss]==0:\n",
    "        N = N/so[ss]\n",
    "        print(so[ss])"
   ]
  },
  {
   "cell_type": "code",
   "execution_count": 33,
   "metadata": {},
   "outputs": [
    {
     "name": "stdout",
     "output_type": "stream",
     "text": [
      "2\n",
      "3\n",
      "5\n",
      "7\n",
      "11\n",
      "13\n"
     ]
    }
   ],
   "source": [
    "# 에라토스테네스의 체\n",
    "A, N = map(int,input().split(\" \"))\n",
    "so = []\n",
    "# 자기자신을 제외한 수로 나눠지지않는수 : 소수, k 자기자신빼고 모든수\n",
    "if A==1:\n",
    "    A = 2\n",
    "for n in range(A,N+1):\n",
    "    st = True\n",
    "    for k in range(2,int(n**0.5)+1):\n",
    "        if n%k==0:\n",
    "            st = False\n",
    "            break;\n",
    "    if st == True:\n",
    "        so.append(n)\n",
    "\n",
    "for j in range(len(so)):\n",
    "    print(so[j])"
   ]
  },
  {
   "cell_type": "code",
   "execution_count": 46,
   "metadata": {},
   "outputs": [
    {
     "name": "stdout",
     "output_type": "stream",
     "text": [
      "5\n",
      "11\n",
      "101\n"
     ]
    }
   ],
   "source": [
    "# 소인수 분해\n",
    "N = int(input())\n",
    "for i in range(2,N+1):\n",
    "    while N%i==0:\n",
    "        N = N/i\n",
    "        print(i)"
   ]
  },
  {
   "cell_type": "code",
   "execution_count": 2,
   "metadata": {},
   "outputs": [
    {
     "name": "stdout",
     "output_type": "stream",
     "text": [
      "0\n"
     ]
    }
   ],
   "source": [
    "year = int(input())\n",
    "if year%4==0:\n",
    "    if year%100!=0 or year%400==0:\n",
    "        print(\"1\")\n",
    "    else:\n",
    "        print(\"0\")\n",
    "else:\n",
    "    print(\"0\")\n"
   ]
  },
  {
   "cell_type": "code",
   "execution_count": 4,
   "metadata": {},
   "outputs": [
    {
     "name": "stdout",
     "output_type": "stream",
     "text": [
      "68\n"
     ]
    }
   ],
   "source": [
    "a1 = int(input())\n",
    "a2 = int(input())\n",
    "a3 = int(input())\n",
    "a4 = int(input())\n",
    "a5 = int(input())\n",
    "\n",
    "if a1<40:\n",
    "    a1 = 40\n",
    "if a2<40:\n",
    "    a2 = 40\n",
    "if a3<40:\n",
    "    a3 = 40\n",
    "if a4<40:\n",
    "    a4 = 40\n",
    "if a5<40:\n",
    "    a5 = 40\n",
    "\n",
    "print(int((a1+a2+a3+a4+a5)/5))"
   ]
  },
  {
   "cell_type": "code",
   "execution_count": 30,
   "metadata": {},
   "outputs": [
    {
     "name": "stdout",
     "output_type": "stream",
     "text": [
      "45000\n"
     ]
    }
   ],
   "source": [
    "time = int(input())\n",
    "# 최소 공배수 = 두 수의 곱 / 최대 공약수(유클리드 호제법 활용하기) \n",
    "for _ in range(time):\n",
    "    a,b = map(int,input().split(\" \"))\n",
    "    A = a\n",
    "    B = b\n",
    "    k = B%A\n",
    "    while True:\n",
    "        k = B%A\n",
    "        B = A\n",
    "        A = k\n",
    "        if k==0:\n",
    "            print(a*b//B)\n",
    "            break;\n",
    "    "
   ]
  },
  {
   "cell_type": "code",
   "execution_count": 4,
   "metadata": {},
   "outputs": [
    {
     "name": "stdout",
     "output_type": "stream",
     "text": [
      "600\n"
     ]
    }
   ],
   "source": [
    "a1, a2, a3 = map(int,input().split(\" \"))\n",
    "board = []\n",
    "board.append(a1)\n",
    "board.append(a2)\n",
    "board.append(a3)\n",
    "if a1==a2==a3 :\n",
    "    print(10000+a1*1000)\n",
    "elif a1==a2:\n",
    "    print(1000+a1*100)\n",
    "elif a1==a3:\n",
    "    print(1000+a1*100)\n",
    "elif a2==a3:\n",
    "    print(1000+a2*100)\n",
    "else:\n",
    "    print(max(board)*100)"
   ]
  },
  {
   "cell_type": "code",
   "execution_count": null,
   "metadata": {},
   "outputs": [],
   "source": [
    "while True:\n",
    "    a,b = map(int, input().split(\" \"))\n",
    "    if a>b:\n",
    "        print(\"Yes\")\n",
    "    elif a == b == 0:\n",
    "        break;\n",
    "    elif a<=b:\n",
    "        print(\"No\")\n",
    "    \n"
   ]
  },
  {
   "cell_type": "code",
   "execution_count": 8,
   "metadata": {},
   "outputs": [
    {
     "name": "stdout",
     "output_type": "stream",
     "text": [
      "200\n"
     ]
    }
   ],
   "source": [
    "K, N, M = map(int,input().split(\" \"))\n",
    "don = K*N-M\n",
    "if don<0:\n",
    "    don = 0\n",
    "print(int(don))"
   ]
  },
  {
   "cell_type": "code",
   "execution_count": 12,
   "metadata": {},
   "outputs": [
    {
     "name": "stdout",
     "output_type": "stream",
     "text": [
      "1 1 "
     ]
    }
   ],
   "source": [
    "N, X = map(int,input().split(\" \"))\n",
    "A = input()\n",
    "for _ in A.split(\" \"):\n",
    "    if int(_)<X:\n",
    "        print(_, end=' ')\n",
    "    else:\n",
    "        pass"
   ]
  },
  {
   "cell_type": "code",
   "execution_count": 19,
   "metadata": {},
   "outputs": [
    {
     "name": "stdout",
     "output_type": "stream",
     "text": [
      "[30, 10, 10] [20, 10, 20]\n",
      "30 10\n"
     ]
    }
   ],
   "source": [
    "al = []\n",
    "bl = []\n",
    "for i in range(3):\n",
    "    a, b = map(int,input().split(\" \"))\n",
    "    al.append(a)\n",
    "    bl.append(b)\n",
    "\n",
    "for j in range(len(al)):\n",
    "    cnt = 0\n",
    "    for k in range(len(al)):\n",
    "        if al[j]==al[k]:\n",
    "            cnt +=1\n",
    "\n",
    "    if cnt==1:\n",
    "        as1 = al[j]\n",
    "        break;\n",
    "\n",
    "for j in range(len(bl)):\n",
    "    cnt = 0\n",
    "    for k in range(len(bl)):\n",
    "        if bl[j]==bl[k]:\n",
    "            cnt +=1\n",
    "\n",
    "    if cnt==1:\n",
    "        as2 = bl[j]\n",
    "        break;\n",
    "\n",
    "print(as1, as2)"
   ]
  },
  {
   "cell_type": "code",
   "execution_count": 21,
   "metadata": {},
   "outputs": [
    {
     "name": "stdout",
     "output_type": "stream",
     "text": [
      "12000\n"
     ]
    }
   ],
   "source": [
    "T = int(input())\n",
    "mmax = 0\n",
    "kmax = 0\n",
    "for i in range(T):\n",
    "    a1, a2, a3 = map(int,input().split(\" \"))\n",
    "    board = []\n",
    "    board.append(a1)\n",
    "    board.append(a2)\n",
    "    board.append(a3)\n",
    "    if a1==a2==a3 :\n",
    "        mmax = (10000+a1*1000)\n",
    "    elif a1==a2:\n",
    "        mmax =(1000+a1*100)\n",
    "    elif a1==a3:\n",
    "        mmax =(1000+a1*100)\n",
    "    elif a2==a3:\n",
    "        mmax =(1000+a2*100)\n",
    "    else:\n",
    "        mmax =(max(board)*100)\n",
    "    \n",
    "    if kmax<=mmax:\n",
    "        kmax = mmax\n",
    "    \n",
    "print(kmax)"
   ]
  },
  {
   "cell_type": "code",
   "execution_count": 35,
   "metadata": {},
   "outputs": [
    {
     "name": "stdout",
     "output_type": "stream",
     "text": [
      "1\n"
     ]
    }
   ],
   "source": [
    "T = int(input())\n",
    "cnt = 0\n",
    "for i in range(T):\n",
    "    glist = []\n",
    "    word = input()\n",
    "    word = list(word)\n",
    "\n",
    "    cword = list(set(word))\n",
    "    word.append(0)\n",
    "    for i in range(len(word)-1):\n",
    "        if word[i]==word[i+1]:\n",
    "            pass\n",
    "        else:\n",
    "            glist.append(word[i])\n",
    "\n",
    "    if len(cword)==len(glist):\n",
    "        cnt +=1\n",
    "\n",
    "print(cnt)\n"
   ]
  }
 ],
 "metadata": {
  "kernelspec": {
   "display_name": "Python 3",
   "language": "python",
   "name": "python3"
  },
  "language_info": {
   "codemirror_mode": {
    "name": "ipython",
    "version": 3
   },
   "file_extension": ".py",
   "mimetype": "text/x-python",
   "name": "python",
   "nbconvert_exporter": "python",
   "pygments_lexer": "ipython3",
   "version": "3.11.3"
  }
 },
 "nbformat": 4,
 "nbformat_minor": 2
}
