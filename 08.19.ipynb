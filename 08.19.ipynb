{
 "cells": [
  {
   "cell_type": "code",
   "execution_count": 4,
   "metadata": {},
   "outputs": [
    {
     "name": "stdout",
     "output_type": "stream",
     "text": [
      "22 55\n"
     ]
    }
   ],
   "source": [
    "H, M = map(int,input().split())\n",
    "\n",
    "if M>=45:\n",
    "    M = M-45\n",
    "    print(H, M)\n",
    "else:\n",
    "    M = 60+(M-45)\n",
    "    H -=1\n",
    "    if H<0:\n",
    "        H = 23\n",
    "    print(H, M)\n"
   ]
  },
  {
   "cell_type": "code",
   "execution_count": 6,
   "metadata": {},
   "outputs": [
    {
     "name": "stdout",
     "output_type": "stream",
     "text": [
      "18446744073709551615\n"
     ]
    }
   ],
   "source": [
    "A, B = map(int,input().split(\" \"))\n",
    "print(A+B)\n"
   ]
  },
  {
   "cell_type": "code",
   "execution_count": 8,
   "metadata": {},
   "outputs": [
    {
     "name": "stdout",
     "output_type": "stream",
     "text": [
      "4.0\n"
     ]
    }
   ],
   "source": [
    "board = {\n",
    "    'A+' : 4.3, \n",
    "    'A0' : 4.0, \n",
    "    'A-' : 3.7,\n",
    "    'B+': 3.3, \n",
    "    'B0': 3.0, \n",
    "    'B-': 2.7,\n",
    "    'C+': 2.3, \n",
    "    'C0': 2.0, \n",
    "    'C-': 1.7,\n",
    "    'D+': 1.3, \n",
    "    'D0': 1.0, \n",
    "    'D-': 0.7,\n",
    "    'F': 0.0\n",
    "}\n",
    "\n",
    "s = input()\n",
    "print(board.get(s))"
   ]
  },
  {
   "cell_type": "code",
   "execution_count": 18,
   "metadata": {},
   "outputs": [
    {
     "name": "stdout",
     "output_type": "stream",
     "text": [
      "1\n"
     ]
    }
   ],
   "source": [
    "# 1110번\n",
    "k = int(input())\n",
    "\n",
    "cnt = 1\n",
    "if k==0:\n",
    "    cnt -=1\n",
    "M = k\n",
    "M1 = 0\n",
    "if k<10:\n",
    "    a1 = 0\n",
    "    a2 = k\n",
    "else:\n",
    "    a1 = k//10\n",
    "    a2 = k%10\n",
    "M1 = a1+a2\n",
    "\n",
    "while True:  \n",
    "    M3 = a2 + (M1%10)\n",
    "    a2 = (M1%10)\n",
    "    M1 = M3\n",
    "    cnt +=1\n",
    "    if M == a2*10 + M1%10:\n",
    "        break;\n",
    "print(cnt)"
   ]
  },
  {
   "cell_type": "code",
   "execution_count": 31,
   "metadata": {},
   "outputs": [
    {
     "name": "stdout",
     "output_type": "stream",
     "text": [
      "80\n"
     ]
    }
   ],
   "source": [
    "g = input()\n",
    "g = list(g)\n",
    "gil = 10\n",
    "for i in range(1,len(g)):\n",
    "    if g[i]==g[i-1]:\n",
    "        gil +=5\n",
    "    else:\n",
    "        gil +=10\n",
    "print(gil)\n",
    "\n",
    "               "
   ]
  },
  {
   "cell_type": "code",
   "execution_count": 33,
   "metadata": {},
   "outputs": [
    {
     "name": "stdout",
     "output_type": "stream",
     "text": [
      "advertise\n",
      "does not matter\n",
      "do not advertise\n"
     ]
    }
   ],
   "source": [
    "T = int(input())\n",
    "for i in range(T):\n",
    "    r, e, c = map(int,input().split(\" \"))\n",
    "    if r == e-c:\n",
    "        print(\"does not matter\")\n",
    "    elif r < e-c:\n",
    "        print(\"advertise\")\n",
    "    else:\n",
    "        print(\"do not advertise\")\n"
   ]
  },
  {
   "cell_type": "code",
   "execution_count": 34,
   "metadata": {},
   "outputs": [
    {
     "name": "stdout",
     "output_type": "stream",
     "text": [
      "Tie\n"
     ]
    }
   ],
   "source": [
    "V = int(input())\n",
    "c1 = 0\n",
    "c2 = 0\n",
    "\n",
    "che = input()\n",
    "\n",
    "for _ in che:\n",
    "    if _ == \"A\":\n",
    "        c1 +=1\n",
    "    if _ == \"B\":\n",
    "        c2 +=1\n",
    "\n",
    "if c1>c2:\n",
    "    print('A')\n",
    "elif c1<c2:\n",
    "    print('B')\n",
    "else:\n",
    "    print(\"Tie\")"
   ]
  },
  {
   "cell_type": "code",
   "execution_count": null,
   "metadata": {},
   "outputs": [],
   "source": [
    "N = int(input())\n",
    "cnt1 = 0\n",
    "cnt2 = 0\n",
    "for i in range(N):\n",
    "    dap = input()\n",
    "    if dap == \"1\":\n",
    "        cnt1 +=1\n",
    "    else:\n",
    "        cnt2 +=1\n",
    "\n",
    "if cnt1>cnt2:\n",
    "    print(\"Junhee is cute!\")\n",
    "else:\n",
    "    print(\"Junhee is not cute!\")"
   ]
  },
  {
   "cell_type": "code",
   "execution_count": 49,
   "metadata": {},
   "outputs": [
    {
     "name": "stdout",
     "output_type": "stream",
     "text": [
      "5\n"
     ]
    }
   ],
   "source": [
    "N = int(input())\n",
    "makdae = []\n",
    "for i in range(N):\n",
    "    k = int(input())\n",
    "    makdae.append(k)\n",
    "maxm = makdae[-1]\n",
    "cnt = 1\n",
    "for j in range(len(makdae)-1,-1,-1):\n",
    "    if maxm<makdae[j]:\n",
    "        maxm = makdae[j]\n",
    "        cnt +=1\n",
    "print(cnt)"
   ]
  },
  {
   "cell_type": "code",
   "execution_count": 51,
   "metadata": {},
   "outputs": [
    {
     "name": "stdout",
     "output_type": "stream",
     "text": [
      "['b', 'a', 'e', 'k', 'j', 'o', 'o', 'n'] ['n', 'o', 'o', 'j', 'k', 'e', 'a', 'b']\n"
     ]
    }
   ],
   "source": [
    "N = input()\n",
    "N = list(N)\n",
    "RN = []\n",
    "for _ in range(len(N)-1,-1,-1):\n",
    "    RN.append(N[_])\n",
    "\n",
    "print(1 if N == RN else 0)\n",
    "\n"
   ]
  },
  {
   "cell_type": "code",
   "execution_count": 2,
   "metadata": {},
   "outputs": [
    {
     "name": "stdout",
     "output_type": "stream",
     "text": [
      "Korea\n",
      "Korea\n"
     ]
    }
   ],
   "source": [
    "T = int(input())\n",
    "for i in range(T):\n",
    "    N = int(input())\n",
    "    Msul = 0\n",
    "    Mname = ''\n",
    "    for j in range(N):\n",
    "        name, sul = input().split()\n",
    "        sul = int(sul)\n",
    "        if Msul<sul:\n",
    "            Mname = name\n",
    "            Msul = sul\n",
    "    print(Mname)"
   ]
  },
  {
   "cell_type": "code",
   "execution_count": 3,
   "metadata": {},
   "outputs": [
    {
     "name": "stdout",
     "output_type": "stream",
     "text": [
      "Yonsei\n"
     ]
    }
   ],
   "source": [
    "T = int(input())\n",
    "Y, K = 0, 0\n",
    "for i in range(T):\n",
    "    for j in range(9):\n",
    "        a, b = map(int,input().split(\" \"))\n",
    "        Y +=a\n",
    "        K +=b\n",
    "    if Y>K:\n",
    "        print(\"Yonsei\")\n",
    "    elif Y<K:\n",
    "        print(\"Korea\")\n",
    "    else:\n",
    "        print(\"Draw\")"
   ]
  },
  {
   "cell_type": "code",
   "execution_count": 12,
   "metadata": {},
   "outputs": [
    {
     "name": "stdout",
     "output_type": "stream",
     "text": [
      "5 6\n",
      "6 6\n",
      "4 3\n",
      "5 2\n",
      "94\n",
      "91\n"
     ]
    }
   ],
   "source": [
    "n = int(input())\n",
    "C = 100\n",
    "S = 100\n",
    "for i in range(n):\n",
    "    a, b = map(int, input().split(\" \"))\n",
    "    if a>b:\n",
    "        S -= a\n",
    "    elif a<b:\n",
    "        C -= b\n",
    "print(C)\n",
    "print(S)\n"
   ]
  },
  {
   "cell_type": "code",
   "execution_count": 15,
   "metadata": {},
   "outputs": [
    {
     "name": "stdout",
     "output_type": "stream",
     "text": [
      "0 3 1\n"
     ]
    }
   ],
   "source": [
    "A,B,C = 300, 60, 10\n",
    "T = int(input())\n",
    "if T%10!=0:\n",
    "    print(\"-1\")\n",
    "else:\n",
    "    An = T//A\n",
    "    Bn = (T%A)//60\n",
    "    Cn = ((T%A)%B)//10\n",
    "    print(An, Bn, Cn)"
   ]
  },
  {
   "cell_type": "code",
   "execution_count": 11,
   "metadata": {},
   "outputs": [
    {
     "data": {
      "text/plain": [
       "1"
      ]
     },
     "execution_count": 11,
     "metadata": {},
     "output_type": "execute_result"
    }
   ],
   "source": [
    "def solution(friends, gifts):\n",
    "    sumnul_jisu = []\n",
    "    total = []\n",
    "    present_list = []\n",
    "    for name in friends:\n",
    "        present = 0\n",
    "        jpresent = 0\n",
    "        for _ in gifts:\n",
    "            a, b = _.split(\" \")\n",
    "            if name==b:\n",
    "                present += 1\n",
    "            elif name == a:\n",
    "                jpresent +=1\n",
    "        present_list.append(present)\n",
    "        sumnul_jisu.append(jpresent-present)\n",
    "    \n",
    "    for i in range(len(sumnul_jisu)):\n",
    "        count=0\n",
    "        for j in range(len(sumnul_jisu)):\n",
    "            if sumnul_jisu[i]>sumnul_jisu[j]:\n",
    "                count +=1\n",
    "        totalsum = count+present_list[i]\n",
    "        total.append(totalsum)\n",
    "   \n",
    "    for i in range(len(sumnul_jisu)):\n",
    "        if sumnul_jisu[i]==max(sumnul_jisu):\n",
    "            answer = i\n",
    "            break;\n",
    "    return answer\n",
    "solution([\"muzi\", \"ryan\", \"frodo\", \"neo\"],[\"muzi frodo\", \"muzi frodo\", \"ryan muzi\", \"ryan muzi\", \"ryan muzi\", \"frodo muzi\", \"frodo ryan\", \"neo muzi\"])"
   ]
  },
  {
   "cell_type": "code",
   "execution_count": null,
   "metadata": {},
   "outputs": [],
   "source": []
  }
 ],
 "metadata": {
  "kernelspec": {
   "display_name": "Python 3",
   "language": "python",
   "name": "python3"
  },
  "language_info": {
   "codemirror_mode": {
    "name": "ipython",
    "version": 3
   },
   "file_extension": ".py",
   "mimetype": "text/x-python",
   "name": "python",
   "nbconvert_exporter": "python",
   "pygments_lexer": "ipython3",
   "version": "3.11.3"
  }
 },
 "nbformat": 4,
 "nbformat_minor": 2
}
